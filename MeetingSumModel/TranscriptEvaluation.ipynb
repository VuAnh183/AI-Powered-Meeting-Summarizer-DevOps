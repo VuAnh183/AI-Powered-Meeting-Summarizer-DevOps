{
 "cells": [
  {
   "cell_type": "code",
   "execution_count": 1,
   "metadata": {},
   "outputs": [
    {
     "name": "stderr",
     "output_type": "stream",
     "text": [
      "d:\\anaconda\\envs\\notesum\\lib\\site-packages\\tqdm\\auto.py:21: TqdmWarning: IProgress not found. Please update jupyter and ipywidgets. See https://ipywidgets.readthedocs.io/en/stable/user_install.html\n",
      "  from .autonotebook import tqdm as notebook_tqdm\n"
     ]
    }
   ],
   "source": [
    "from transformers import GPT2Tokenizer, GPT2LMHeadModel\n",
    "import torch\n",
    "import math\n",
    "import os\n"
   ]
  },
  {
   "cell_type": "code",
   "execution_count": 2,
   "metadata": {},
   "outputs": [],
   "source": [
    "cache_dir_location = \"models/gpt2\"\n",
    "\n",
    "tokenizer = GPT2Tokenizer.from_pretrained(\"distilgpt2\", cache_dir=cache_dir_location)\n",
    "model = GPT2LMHeadModel.from_pretrained(\"distilgpt2\", cache_dir=cache_dir_location)\n",
    "model.eval()\n",
    "if torch.cuda.is_available():\n",
    "    model.to(\"cuda\")"
   ]
  },
  {
   "cell_type": "code",
   "execution_count": 3,
   "metadata": {},
   "outputs": [],
   "source": [
    "def calculate_perplexity(text, model, tokenizer, device=\"cuda\", max_length=1024):\n",
    "    inputs = tokenizer(text, return_tensors=\"pt\", truncation=False)\n",
    "    input_ids = inputs[\"input_ids\"][0]\n",
    "\n",
    "    nlls = []\n",
    "    stride = 512  # overlap slightly\n",
    "    for i in range(0, len(input_ids), stride):\n",
    "        begin_loc = max(i + stride - max_length, 0)\n",
    "        end_loc = min(i + stride, len(input_ids))\n",
    "        trg_len = end_loc - i\n",
    "\n",
    "        input_ids_chunk = input_ids[begin_loc:end_loc].unsqueeze(0).to(device)\n",
    "        target_ids = input_ids_chunk.clone()\n",
    "        target_ids[:, :-trg_len] = -100  # Only predict the last trg_len tokens\n",
    "\n",
    "        with torch.no_grad():\n",
    "            outputs = model(input_ids_chunk, labels=target_ids)\n",
    "            neg_log_likelihood = outputs.loss * trg_len\n",
    "\n",
    "        nlls.append(neg_log_likelihood)\n",
    "\n",
    "    ppl = torch.exp(torch.stack(nlls).sum() / len(input_ids))\n",
    "    return ppl.item()"
   ]
  },
  {
   "cell_type": "code",
   "execution_count": 4,
   "metadata": {},
   "outputs": [
    {
     "name": "stderr",
     "output_type": "stream",
     "text": [
      "Token indices sequence length is longer than the specified maximum sequence length for this model (2673 > 1024). Running this sequence through the model will result in indexing errors\n",
      "`loss_type=None` was set in the config but it is unrecognised.Using the default loss: `ForCausalLMLoss`.\n"
     ]
    },
    {
     "name": "stdout",
     "output_type": "stream",
     "text": [
      "ES2002a.Mix-Headset.txt: Perplexity = 34.98\n",
      "ES2002b.Mix-Headset.txt: Perplexity = 34.42\n",
      "ES2002c.Mix-Headset.txt: Perplexity = 33.80\n",
      "ES2002d.Mix-Headset.txt: Perplexity = 35.58\n",
      "ES2003a.Mix-Headset.txt: Perplexity = 45.75\n",
      "ES2003b.Mix-Headset.txt: Perplexity = 43.60\n",
      "ES2003c.Mix-Headset.txt: Perplexity = 40.78\n",
      "ES2003d.Mix-Headset.txt: Perplexity = 47.92\n",
      "ES2004a.Mix-Headset.txt: Perplexity = 30.34\n",
      "ES2004b.Mix-Headset.txt: Perplexity = 44.28\n",
      "ES2004c.Mix-Headset.txt: Perplexity = 45.27\n",
      "ES2004d.Mix-Headset.txt: Perplexity = 39.20\n",
      "ES2005a.Mix-Headset.txt: Perplexity = 75.52\n",
      "ES2005b.Mix-Headset.txt: Perplexity = 53.19\n",
      "ES2005c.Mix-Headset.txt: Perplexity = 48.65\n",
      "ES2005d.Mix-Headset.txt: Perplexity = 58.87\n",
      "ES2006a.Mix-Headset.txt: Perplexity = 30.55\n",
      "ES2006b.Mix-Headset.txt: Perplexity = 36.73\n",
      "ES2006c.Mix-Headset.txt: Perplexity = 46.31\n",
      "ES2006d.Mix-Headset.txt: Perplexity = 43.05\n",
      "ES2007a.Mix-Headset.txt: Perplexity = 44.99\n",
      "ES2007b.Mix-Headset.txt: Perplexity = 41.95\n",
      "ES2007c.Mix-Headset.txt: Perplexity = 47.30\n",
      "ES2007d.Mix-Headset.txt: Perplexity = 42.17\n",
      "ES2008a.Mix-Headset.txt: Perplexity = 30.66\n",
      "ES2008b.Mix-Headset.txt: Perplexity = 33.06\n",
      "ES2008c.Mix-Headset.txt: Perplexity = 32.37\n",
      "ES2008d.Mix-Headset.txt: Perplexity = 35.02\n"
     ]
    }
   ],
   "source": [
    "transcript_folder = \"amicorpus\"\n",
    "\n",
    "for root, _, files in os.walk(transcript_folder):\n",
    "    for file in files:\n",
    "        if file.endswith(\".txt\"):\n",
    "            txt_path = os.path.join(root, file)\n",
    "            with open(txt_path, \"r\", encoding=\"utf-8\") as f:\n",
    "                text = f.read()\n",
    "\n",
    "            try:\n",
    "                ppl = calculate_perplexity(text, model, tokenizer)\n",
    "                print(f\"{file}: Perplexity = {ppl:.2f}\")\n",
    "            except Exception as e:\n",
    "                print(f\"Failed to process {file}: {e}\")\n"
   ]
  }
 ],
 "metadata": {
  "kernelspec": {
   "display_name": "Python 3",
   "language": "python",
   "name": "python3"
  },
  "language_info": {
   "codemirror_mode": {
    "name": "ipython",
    "version": 3
   },
   "file_extension": ".py",
   "mimetype": "text/x-python",
   "name": "python",
   "nbconvert_exporter": "python",
   "pygments_lexer": "ipython3",
   "version": "3.10.16"
  }
 },
 "nbformat": 4,
 "nbformat_minor": 2
}
